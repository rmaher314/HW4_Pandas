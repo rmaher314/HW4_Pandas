{
 "cells": [
  {
   "cell_type": "code",
   "execution_count": 1,
   "metadata": {},
   "outputs": [],
   "source": [
    "#Dependencies\n",
    "import pandas as pd"
   ]
  },
  {
   "cell_type": "code",
   "execution_count": 2,
   "metadata": {},
   "outputs": [],
   "source": [
    "#Save path to data set\n",
    "purchase_file = \"Resources/purchase_data.csv\""
   ]
  },
  {
   "cell_type": "code",
   "execution_count": 3,
   "metadata": {},
   "outputs": [],
   "source": [
    "#Use Pandas to read the data\n",
    "purchase_file_df = pd.read_csv(purchase_file)\n",
    "#purchase_file_df.head(10)\n"
   ]
  },
  {
   "cell_type": "code",
   "execution_count": 4,
   "metadata": {},
   "outputs": [],
   "source": [
    "#purchase_file_df.count()"
   ]
  },
  {
   "cell_type": "code",
   "execution_count": 141,
   "metadata": {},
   "outputs": [],
   "source": [
    "#identify the types of columns\n",
    "#purchase_file_df.dtypes"
   ]
  },
  {
   "cell_type": "code",
   "execution_count": 6,
   "metadata": {},
   "outputs": [
    {
     "data": {
      "text/html": [
       "<div>\n",
       "<style scoped>\n",
       "    .dataframe tbody tr th:only-of-type {\n",
       "        vertical-align: middle;\n",
       "    }\n",
       "\n",
       "    .dataframe tbody tr th {\n",
       "        vertical-align: top;\n",
       "    }\n",
       "\n",
       "    .dataframe thead th {\n",
       "        text-align: right;\n",
       "    }\n",
       "</style>\n",
       "<table border=\"1\" class=\"dataframe\">\n",
       "  <thead>\n",
       "    <tr style=\"text-align: right;\">\n",
       "      <th></th>\n",
       "      <th>Total Gamers</th>\n",
       "    </tr>\n",
       "  </thead>\n",
       "  <tbody>\n",
       "    <tr>\n",
       "      <th>0</th>\n",
       "      <td>576</td>\n",
       "    </tr>\n",
       "  </tbody>\n",
       "</table>\n",
       "</div>"
      ],
      "text/plain": [
       "   Total Gamers\n",
       "0           576"
      ]
     },
     "execution_count": 6,
     "metadata": {},
     "output_type": "execute_result"
    }
   ],
   "source": [
    "#Total Number of Gamers\n",
    "#TODO:  Put into dataframe - I have tried a number of different ways to get to this answer with no luck. Look up drop duplicates to output it correctly. \n",
    "#Total_Gamers = purchase_file_df['SN'].nunique()\n",
    "#print(Total_Gamers)\n",
    "unique_gamers = purchase_file_df['SN'].nunique()\n",
    "unique_gamers2 = [{'Total Gamers':(unique_gamers)}]\n",
    "unique_gamers_df = pd.DataFrame(unique_gamers2)\n",
    "unique_gamers_df\n",
    "#print(unique_items)"
   ]
  },
  {
   "cell_type": "code",
   "execution_count": 137,
   "metadata": {},
   "outputs": [
    {
     "data": {
      "text/html": [
       "<div>\n",
       "<style scoped>\n",
       "    .dataframe tbody tr th:only-of-type {\n",
       "        vertical-align: middle;\n",
       "    }\n",
       "\n",
       "    .dataframe tbody tr th {\n",
       "        vertical-align: top;\n",
       "    }\n",
       "\n",
       "    .dataframe thead th {\n",
       "        text-align: right;\n",
       "    }\n",
       "</style>\n",
       "<table border=\"1\" class=\"dataframe\">\n",
       "  <thead>\n",
       "    <tr style=\"text-align: right;\">\n",
       "      <th></th>\n",
       "      <th>Total Unique Items</th>\n",
       "      <th>Average Purchase Price</th>\n",
       "      <th>Total Number of Purchases</th>\n",
       "      <th>Total_Revenue</th>\n",
       "    </tr>\n",
       "  </thead>\n",
       "  <tbody>\n",
       "    <tr>\n",
       "      <th>0</th>\n",
       "      <td>179</td>\n",
       "      <td>$3.05</td>\n",
       "      <td>780</td>\n",
       "      <td>$2379.77</td>\n",
       "    </tr>\n",
       "  </tbody>\n",
       "</table>\n",
       "</div>"
      ],
      "text/plain": [
       "   Total Unique Items Average Purchase Price  Total Number of Purchases  \\\n",
       "0                 179                  $3.05                        780   \n",
       "\n",
       "  Total_Revenue  \n",
       "0      $2379.77  "
      ]
     },
     "execution_count": 137,
     "metadata": {},
     "output_type": "execute_result"
    }
   ],
   "source": [
    "#Purchase Analysis \n",
    "#TODO - Need to add the characters to the outputs.\n",
    "\n",
    "#Unique items in the data set.\n",
    "unique_items = purchase_file_df['Item ID'].nunique()\n",
    "#print(unique_items)\n",
    "\n",
    "#Average Purchase Price\n",
    "average_purchase_price = (purchase_file_df['Price'].mean()).round(decimals=2)\n",
    "\n",
    "#print(average_purchase_price)\n",
    "\n",
    "#Total number of purchases\n",
    "total_purchases = (purchase_file_df['Purchase ID']).count()\n",
    "#print(total_purchases)\n",
    "\n",
    "total_revenue = ((purchase_file_df['Price']).sum()).round(decimals=2)\n",
    "#print(total_revenue)\n",
    "\n",
    "Purchase_Analysis = [{'Total Unique Items':(unique_items), 'Average Purchase Price':(average_purchase_price), 'Total Number of Purchases':(total_purchases), 'Total_Revenue':(total_revenue)}]\n",
    "purchase_df = pd.DataFrame(Purchase_Analysis)\n",
    "def format(x):\n",
    "    return \"${:.2f}\".format(x)\n",
    "purchase_df['Average Purchase Price'] = purchase_df['Average Purchase Price'].apply(format)\n",
    "purchase_df['Total_Revenue'] = purchase_df['Total_Revenue'].apply(format)\n",
    "purchase_df"
   ]
  },
  {
   "cell_type": "code",
   "execution_count": 8,
   "metadata": {},
   "outputs": [],
   "source": [
    "#Gender Analysis\n",
    "#Dropping Duplicates\n",
    "dropped_purchase_file = purchase_file_df.drop_duplicates(subset=['SN'])\n",
    "#dropped_purchase_file"
   ]
  },
  {
   "cell_type": "code",
   "execution_count": 9,
   "metadata": {},
   "outputs": [],
   "source": [
    "#Gender Analysis\n",
    "gender_of_players = dropped_purchase_file[\"Gender\"].value_counts()\n",
    "#gender_of_players "
   ]
  },
  {
   "cell_type": "code",
   "execution_count": 10,
   "metadata": {},
   "outputs": [],
   "source": [
    "#Gender Analysis\n",
    "# Convert the gender of players into a DataFrame\n",
    "gender_of_players_df = pd.DataFrame(gender_of_players)\n",
    "gender_of_players_df['Gender_pct'] = (gender_of_players_df.Gender / (gender_of_players_df.Gender.sum()/100)).round(decimals=2)\n",
    "#gender_of_players_df"
   ]
  },
  {
   "cell_type": "code",
   "execution_count": 139,
   "metadata": {},
   "outputs": [
    {
     "data": {
      "text/html": [
       "<div>\n",
       "<style scoped>\n",
       "    .dataframe tbody tr th:only-of-type {\n",
       "        vertical-align: middle;\n",
       "    }\n",
       "\n",
       "    .dataframe tbody tr th {\n",
       "        vertical-align: top;\n",
       "    }\n",
       "\n",
       "    .dataframe thead th {\n",
       "        text-align: right;\n",
       "    }\n",
       "</style>\n",
       "<table border=\"1\" class=\"dataframe\">\n",
       "  <thead>\n",
       "    <tr style=\"text-align: right;\">\n",
       "      <th></th>\n",
       "      <th>Total Count</th>\n",
       "      <th>Percentage of Players</th>\n",
       "    </tr>\n",
       "  </thead>\n",
       "  <tbody>\n",
       "    <tr>\n",
       "      <th>Male</th>\n",
       "      <td>484</td>\n",
       "      <td>84.03%</td>\n",
       "    </tr>\n",
       "    <tr>\n",
       "      <th>Female</th>\n",
       "      <td>81</td>\n",
       "      <td>14.06%</td>\n",
       "    </tr>\n",
       "    <tr>\n",
       "      <th>Other / Non-Disclosed</th>\n",
       "      <td>11</td>\n",
       "      <td>1.91%</td>\n",
       "    </tr>\n",
       "  </tbody>\n",
       "</table>\n",
       "</div>"
      ],
      "text/plain": [
       "                       Total Count Percentage of Players\n",
       "Male                           484                84.03%\n",
       "Female                          81                14.06%\n",
       "Other / Non-Disclosed           11                 1.91%"
      ]
     },
     "execution_count": 139,
     "metadata": {},
     "output_type": "execute_result"
    }
   ],
   "source": [
    "#Gender Analysis\n",
    "# TODOS: Make \"Genders\" into \"Total Count\" and Add a Column \"% of players\"\n",
    "renamed_genders_of_players_df = gender_of_players_df.rename(columns={\"Gender\":\"Total Count\", \"Gender_pct\":\"Percentage of Players\"})\n",
    "def format(x):\n",
    "    return \"{:.2f}%\".format(x)\n",
    "renamed_genders_of_players_df['Percentage of Players'] = renamed_genders_of_players_df['Percentage of Players'].apply(format)\n",
    "renamed_genders_of_players_df"
   ]
  },
  {
   "cell_type": "code",
   "execution_count": 12,
   "metadata": {},
   "outputs": [],
   "source": [
    "#Gender Analysis\n",
    "#Purchase Analysis by Gender\n",
    "#grouped_gender_analysis_df = purchase_file_df.groupby(['Gender'])\n",
    "#gender_table_df = grouped_gender_analysis_df.count()\n",
    "grouped_gender_analysis_df= purchase_file_df.groupby('Gender')['Purchase ID'].count()\n",
    "#grouped_gender_analysis_df"
   ]
  },
  {
   "cell_type": "code",
   "execution_count": 13,
   "metadata": {},
   "outputs": [],
   "source": [
    "#Gender Analysis\n",
    "#Average Purchase Price - Gender\n",
    "avg_purchased_price_df= purchase_file_df.groupby('Gender')['Price'].mean().round(decimals=2)\n",
    "#avg_purchased_price_df"
   ]
  },
  {
   "cell_type": "code",
   "execution_count": 14,
   "metadata": {},
   "outputs": [],
   "source": [
    "#Gender Analysis\n",
    "#Average Purchase Total by Person - Gender\n",
    "avg_total_purchased_byperson_df= (purchase_file_df.groupby('Gender')['Price'].sum()/gender_of_players).round(decimals=2)\n",
    "#avg_total_purchased_byperson_df"
   ]
  },
  {
   "cell_type": "code",
   "execution_count": 15,
   "metadata": {},
   "outputs": [],
   "source": [
    "#Gender Analysis\n",
    "#Total Purchase Value\n",
    "total_purchased_gender_df= (purchase_file_df.groupby('Gender')['Price'].sum()).round(decimals=2)\n",
    "#total_purchased_gender_df"
   ]
  },
  {
   "cell_type": "code",
   "execution_count": 119,
   "metadata": {},
   "outputs": [
    {
     "data": {
      "text/html": [
       "<div>\n",
       "<style scoped>\n",
       "    .dataframe tbody tr th:only-of-type {\n",
       "        vertical-align: middle;\n",
       "    }\n",
       "\n",
       "    .dataframe tbody tr th {\n",
       "        vertical-align: top;\n",
       "    }\n",
       "\n",
       "    .dataframe thead th {\n",
       "        text-align: right;\n",
       "    }\n",
       "</style>\n",
       "<table border=\"1\" class=\"dataframe\">\n",
       "  <thead>\n",
       "    <tr style=\"text-align: right;\">\n",
       "      <th></th>\n",
       "      <th>Purchase Count</th>\n",
       "      <th>Average Purchase Price</th>\n",
       "      <th>Total Purchase Value</th>\n",
       "      <th>Average Purchase Total by Person</th>\n",
       "    </tr>\n",
       "    <tr>\n",
       "      <th>Gender</th>\n",
       "      <th></th>\n",
       "      <th></th>\n",
       "      <th></th>\n",
       "      <th></th>\n",
       "    </tr>\n",
       "  </thead>\n",
       "  <tbody>\n",
       "    <tr>\n",
       "      <th>Female</th>\n",
       "      <td>113</td>\n",
       "      <td>$3.20</td>\n",
       "      <td>$361.94</td>\n",
       "      <td>$4.47</td>\n",
       "    </tr>\n",
       "    <tr>\n",
       "      <th>Male</th>\n",
       "      <td>652</td>\n",
       "      <td>$3.02</td>\n",
       "      <td>$1967.64</td>\n",
       "      <td>$4.07</td>\n",
       "    </tr>\n",
       "    <tr>\n",
       "      <th>Other / Non-Disclosed</th>\n",
       "      <td>15</td>\n",
       "      <td>$3.35</td>\n",
       "      <td>$50.19</td>\n",
       "      <td>$4.56</td>\n",
       "    </tr>\n",
       "  </tbody>\n",
       "</table>\n",
       "</div>"
      ],
      "text/plain": [
       "                       Purchase Count Average Purchase Price  \\\n",
       "Gender                                                         \n",
       "Female                            113                  $3.20   \n",
       "Male                              652                  $3.02   \n",
       "Other / Non-Disclosed              15                  $3.35   \n",
       "\n",
       "                      Total Purchase Value Average Purchase Total by Person  \n",
       "Gender                                                                       \n",
       "Female                             $361.94                            $4.47  \n",
       "Male                              $1967.64                            $4.07  \n",
       "Other / Non-Disclosed               $50.19                            $4.56  "
      ]
     },
     "execution_count": 119,
     "metadata": {},
     "output_type": "execute_result"
    }
   ],
   "source": [
    "#Gender Analysis\n",
    "gender_table_df = pd.DataFrame({\"Purchase Count\": grouped_gender_analysis_df,\"Average Purchase Price\":avg_purchased_price_df, \"Total Purchase Value\": total_purchased_gender_df, \"Average Purchase Total by Person\": avg_total_purchased_byperson_df})\n",
    "#\"Average Purchase Price\":[\"\"], \"Total Purchase Value\": [\"\"], \"Average Purchase Total by Person\": [\"\"]})\n",
    "def format(x):\n",
    "    return \"${:.2f}\".format(x)\n",
    "gender_table_df['Average Purchase Price'] = gender_table_df['Average Purchase Price'].apply(format)\n",
    "gender_table_df['Total Purchase Value'] = gender_table_df['Total Purchase Value'].apply(format)\n",
    "gender_table_df['Average Purchase Total by Person'] = gender_table_df['Average Purchase Total by Person'].apply(format)\n",
    "gender_table_df"
   ]
  },
  {
   "cell_type": "code",
   "execution_count": 17,
   "metadata": {},
   "outputs": [],
   "source": [
    "#Age Demographics - Binned into bins of 4 years.  \n",
    "bins = [0, 10, 14, 19, 24, 29, 34, 39, 45]\n",
    "\n",
    "# Create the names for the five bins\n",
    "age_groups = [\"<10\", \"11-14\", \"15-19\", \"20-24\", \"25-29\", \"30-34\", \"35-39\", \"40+\"]\n"
   ]
  },
  {
   "cell_type": "code",
   "execution_count": 18,
   "metadata": {},
   "outputs": [],
   "source": [
    "#Age Demographics\n",
    "# Age demographics paired back into the purchase file data frame for additional needed analysis.\n",
    "purchase_file_df[\"Age Summary\"] = pd.cut(purchase_file_df[\"Age\"], bins, labels=age_groups, include_lowest=True)\n",
    "#purchase_file_df"
   ]
  },
  {
   "cell_type": "code",
   "execution_count": 19,
   "metadata": {},
   "outputs": [],
   "source": [
    "#Age Demographics\n",
    "#Dropping Duplicates\n",
    "aged_dropped_purchase_file = purchase_file_df.drop_duplicates(subset=['SN'])\n",
    "#aged_dropped_purchase_file"
   ]
  },
  {
   "cell_type": "code",
   "execution_count": 20,
   "metadata": {},
   "outputs": [],
   "source": [
    "#Age Demographics\n",
    "#Age Demographics\n",
    "age_of_players = aged_dropped_purchase_file[\"Age Summary\"].value_counts()\n",
    "#age_of_players "
   ]
  },
  {
   "cell_type": "code",
   "execution_count": 21,
   "metadata": {},
   "outputs": [],
   "source": [
    "#Age Demographics\n",
    "#Purchase Count - Age\n",
    "grouped_age_analysis_df= purchase_file_df.groupby('Age Summary')['Purchase ID'].count()\n",
    "#grouped_age_analysis_df"
   ]
  },
  {
   "cell_type": "code",
   "execution_count": 22,
   "metadata": {},
   "outputs": [],
   "source": [
    "#Age Demographics\n",
    "#Average Purchase Total by Person - Age\n",
    "avg_total_purchased_byage_df= (purchase_file_df.groupby('Age Summary')['Price'].sum()/age_of_players).round(decimals=2)\n",
    "#avg_total_purchased_byage_df"
   ]
  },
  {
   "cell_type": "code",
   "execution_count": 23,
   "metadata": {},
   "outputs": [],
   "source": [
    "#Age Demographics\n",
    "#Average Purchase Price - age\n",
    "avg_purchased_priceage_df= purchase_file_df.groupby('Age Summary')['Price'].mean().round(decimals=2)\n",
    "#avg_purchased_priceage_df"
   ]
  },
  {
   "cell_type": "code",
   "execution_count": 24,
   "metadata": {},
   "outputs": [],
   "source": [
    "#Age Demographics\n",
    "#Total Purchase Value\n",
    "total_purchased_age_df= (purchase_file_df.groupby('Age Summary')['Price'].sum()).round(decimals=2)\n",
    "#total_purchased_age_df"
   ]
  },
  {
   "cell_type": "code",
   "execution_count": 120,
   "metadata": {},
   "outputs": [
    {
     "data": {
      "text/html": [
       "<div>\n",
       "<style scoped>\n",
       "    .dataframe tbody tr th:only-of-type {\n",
       "        vertical-align: middle;\n",
       "    }\n",
       "\n",
       "    .dataframe tbody tr th {\n",
       "        vertical-align: top;\n",
       "    }\n",
       "\n",
       "    .dataframe thead th {\n",
       "        text-align: right;\n",
       "    }\n",
       "</style>\n",
       "<table border=\"1\" class=\"dataframe\">\n",
       "  <thead>\n",
       "    <tr style=\"text-align: right;\">\n",
       "      <th></th>\n",
       "      <th>Purchase Count</th>\n",
       "      <th>Average Purchase Price</th>\n",
       "      <th>Total Purchase Value</th>\n",
       "      <th>Avg. Purchase Total per Person by Age Group</th>\n",
       "    </tr>\n",
       "  </thead>\n",
       "  <tbody>\n",
       "    <tr>\n",
       "      <th>&lt;10</th>\n",
       "      <td>32</td>\n",
       "      <td>$3.40</td>\n",
       "      <td>$108.96</td>\n",
       "      <td>$4.54</td>\n",
       "    </tr>\n",
       "    <tr>\n",
       "      <th>11-14</th>\n",
       "      <td>19</td>\n",
       "      <td>$2.68</td>\n",
       "      <td>$50.95</td>\n",
       "      <td>$3.40</td>\n",
       "    </tr>\n",
       "    <tr>\n",
       "      <th>15-19</th>\n",
       "      <td>136</td>\n",
       "      <td>$3.04</td>\n",
       "      <td>$412.89</td>\n",
       "      <td>$3.86</td>\n",
       "    </tr>\n",
       "    <tr>\n",
       "      <th>20-24</th>\n",
       "      <td>365</td>\n",
       "      <td>$3.05</td>\n",
       "      <td>$1114.06</td>\n",
       "      <td>$4.32</td>\n",
       "    </tr>\n",
       "    <tr>\n",
       "      <th>25-29</th>\n",
       "      <td>101</td>\n",
       "      <td>$2.90</td>\n",
       "      <td>$293.00</td>\n",
       "      <td>$3.81</td>\n",
       "    </tr>\n",
       "    <tr>\n",
       "      <th>30-34</th>\n",
       "      <td>73</td>\n",
       "      <td>$2.93</td>\n",
       "      <td>$214.00</td>\n",
       "      <td>$4.12</td>\n",
       "    </tr>\n",
       "    <tr>\n",
       "      <th>35-39</th>\n",
       "      <td>41</td>\n",
       "      <td>$3.60</td>\n",
       "      <td>$147.67</td>\n",
       "      <td>$4.76</td>\n",
       "    </tr>\n",
       "    <tr>\n",
       "      <th>40+</th>\n",
       "      <td>13</td>\n",
       "      <td>$2.94</td>\n",
       "      <td>$38.24</td>\n",
       "      <td>$3.19</td>\n",
       "    </tr>\n",
       "  </tbody>\n",
       "</table>\n",
       "</div>"
      ],
      "text/plain": [
       "       Purchase Count Average Purchase Price Total Purchase Value  \\\n",
       "<10                32                  $3.40              $108.96   \n",
       "11-14              19                  $2.68               $50.95   \n",
       "15-19             136                  $3.04              $412.89   \n",
       "20-24             365                  $3.05             $1114.06   \n",
       "25-29             101                  $2.90              $293.00   \n",
       "30-34              73                  $2.93              $214.00   \n",
       "35-39              41                  $3.60              $147.67   \n",
       "40+                13                  $2.94               $38.24   \n",
       "\n",
       "      Avg. Purchase Total per Person by Age Group  \n",
       "<10                                         $4.54  \n",
       "11-14                                       $3.40  \n",
       "15-19                                       $3.86  \n",
       "20-24                                       $4.32  \n",
       "25-29                                       $3.81  \n",
       "30-34                                       $4.12  \n",
       "35-39                                       $4.76  \n",
       "40+                                         $3.19  "
      ]
     },
     "execution_count": 120,
     "metadata": {},
     "output_type": "execute_result"
    }
   ],
   "source": [
    "#Age Demographics\n",
    "age_table_df = pd.DataFrame({\"Purchase Count\": grouped_age_analysis_df, \"Average Purchase Price\": avg_purchased_priceage_df, \"Total Purchase Value\": total_purchased_age_df, \"Avg. Purchase Total per Person by Age Group\": avg_total_purchased_byage_df})\n",
    "# \"Average Purchase Total by Person\": [\"\"]})\n",
    "\n",
    "age_table_df['Average Purchase Price'] = age_table_df['Average Purchase Price'].apply(format)\n",
    "age_table_df['Total Purchase Value'] = age_table_df['Total Purchase Value'].apply(format)\n",
    "age_table_df['Avg. Purchase Total per Person by Age Group'] = age_table_df['Avg. Purchase Total per Person by Age Group'].apply(format)\n",
    "age_table_df"
   ]
  },
  {
   "cell_type": "code",
   "execution_count": 26,
   "metadata": {},
   "outputs": [],
   "source": [
    "#Age Demographics\n",
    "#age_table_df.dtypes"
   ]
  },
  {
   "cell_type": "code",
   "execution_count": 27,
   "metadata": {},
   "outputs": [],
   "source": [
    "#Top Spenders\n",
    "#Dropping Duplicates for the Top Spenders\n",
    "spend_dropped_purchase_file = purchase_file_df.drop_duplicates(subset=['SN'])\n",
    "#spend_dropped_purchase_file"
   ]
  },
  {
   "cell_type": "code",
   "execution_count": 28,
   "metadata": {},
   "outputs": [],
   "source": [
    "#Top Spenders\n",
    "#Unique - Spenders\n",
    "spend_of_players = spend_dropped_purchase_file[\"SN\"].value_counts()\n",
    "#spend_of_players "
   ]
  },
  {
   "cell_type": "code",
   "execution_count": 29,
   "metadata": {},
   "outputs": [],
   "source": [
    "#Top Spenders\n",
    "#Purchase Count - Spender\n",
    "spender_analysis_df= purchase_file_df.groupby('SN')['Purchase ID'].count()\n",
    "#spender_analysis_df"
   ]
  },
  {
   "cell_type": "code",
   "execution_count": 30,
   "metadata": {},
   "outputs": [],
   "source": [
    "#Top Spenders\n",
    "#Average Purchase Price - Spender\n",
    "avg_purchased_pricespend_df= purchase_file_df.groupby('SN')['Price'].mean().round(decimals=2)\n",
    "#avg_purchased_pricespend_df"
   ]
  },
  {
   "cell_type": "code",
   "execution_count": 31,
   "metadata": {},
   "outputs": [],
   "source": [
    "#Top Spenders\n",
    "#Total Purchase Value - Spender\n",
    "total_purchased_spender_df= (purchase_file_df.groupby('SN')['Price'].sum()).round(decimals=2)\n",
    "#total_purchased_spender_df"
   ]
  },
  {
   "cell_type": "code",
   "execution_count": 32,
   "metadata": {},
   "outputs": [],
   "source": [
    "#Top Spenders\n",
    "#Spender Table with Fields\n",
    "spend_table_df = pd.DataFrame({\"Purchase Count\": spender_analysis_df, \"Average Purchase Price\": avg_purchased_pricespend_df, \"Total Purchase Value\": total_purchased_spender_df})\n",
    "#spend_table_df"
   ]
  },
  {
   "cell_type": "code",
   "execution_count": 121,
   "metadata": {
    "collapsed": true,
    "jupyter": {
     "outputs_hidden": true
    }
   },
   "outputs": [
    {
     "data": {
      "text/html": [
       "<div>\n",
       "<style scoped>\n",
       "    .dataframe tbody tr th:only-of-type {\n",
       "        vertical-align: middle;\n",
       "    }\n",
       "\n",
       "    .dataframe tbody tr th {\n",
       "        vertical-align: top;\n",
       "    }\n",
       "\n",
       "    .dataframe thead th {\n",
       "        text-align: right;\n",
       "    }\n",
       "</style>\n",
       "<table border=\"1\" class=\"dataframe\">\n",
       "  <thead>\n",
       "    <tr style=\"text-align: right;\">\n",
       "      <th></th>\n",
       "      <th>Purchase Count</th>\n",
       "      <th>Average Purchase Price</th>\n",
       "      <th>Total Purchase Value</th>\n",
       "    </tr>\n",
       "    <tr>\n",
       "      <th>SN</th>\n",
       "      <th></th>\n",
       "      <th></th>\n",
       "      <th></th>\n",
       "    </tr>\n",
       "  </thead>\n",
       "  <tbody>\n",
       "    <tr>\n",
       "      <th>Lisosia93</th>\n",
       "      <td>5</td>\n",
       "      <td>$3.79</td>\n",
       "      <td>$18.96</td>\n",
       "    </tr>\n",
       "    <tr>\n",
       "      <th>Idastidru52</th>\n",
       "      <td>4</td>\n",
       "      <td>$3.86</td>\n",
       "      <td>$15.45</td>\n",
       "    </tr>\n",
       "    <tr>\n",
       "      <th>Chamjask73</th>\n",
       "      <td>3</td>\n",
       "      <td>$4.61</td>\n",
       "      <td>$13.83</td>\n",
       "    </tr>\n",
       "    <tr>\n",
       "      <th>Iral74</th>\n",
       "      <td>4</td>\n",
       "      <td>$3.40</td>\n",
       "      <td>$13.62</td>\n",
       "    </tr>\n",
       "    <tr>\n",
       "      <th>Iskadarya95</th>\n",
       "      <td>3</td>\n",
       "      <td>$4.37</td>\n",
       "      <td>$13.10</td>\n",
       "    </tr>\n",
       "  </tbody>\n",
       "</table>\n",
       "</div>"
      ],
      "text/plain": [
       "             Purchase Count Average Purchase Price Total Purchase Value\n",
       "SN                                                                     \n",
       "Lisosia93                 5                  $3.79               $18.96\n",
       "Idastidru52               4                  $3.86               $15.45\n",
       "Chamjask73                3                  $4.61               $13.83\n",
       "Iral74                    4                  $3.40               $13.62\n",
       "Iskadarya95               3                  $4.37               $13.10"
      ]
     },
     "execution_count": 121,
     "metadata": {},
     "output_type": "execute_result"
    }
   ],
   "source": [
    "#Top Spenders\n",
    "#Final Spender Table sorted by top 5 spenders\n",
    "top_5_spenders_df = spend_table_df.sort_values(\"Total Purchase Value\", ascending=False)\n",
    "\n",
    "top_5_spenders_df['Average Purchase Price'] = top_5_spenders_df['Average Purchase Price'].apply(format)\n",
    "top_5_spenders_df['Total Purchase Value'] = top_5_spenders_df['Total Purchase Value'].apply(format)\n",
    "top_5_spenders_df.head()"
   ]
  },
  {
   "cell_type": "code",
   "execution_count": 124,
   "metadata": {},
   "outputs": [],
   "source": [
    "#Most Popular Item\n",
    "#Dropping Duplicates for the Top Items\n",
    "#itemid_indexed_df = purchase_file_df.set_index(\"Item ID\")\n",
    "#itemid_indexed_df\n",
    "#items_dropped_purchase_file = itemid_indexed_df.drop_duplicates(subset=['Item ID'])\n",
    "#items_dropped_purchase_file\n",
    "#items_df = purchase_file_df[[\"Item ID\",\"Item Name\",\"Price\"]]\n",
    "#items_df"
   ]
  },
  {
   "cell_type": "code",
   "execution_count": 125,
   "metadata": {},
   "outputs": [
    {
     "data": {
      "text/plain": [
       "Item ID  Item Name                                   \n",
       "0        Splinter                                         5.12\n",
       "1        Crucifer                                        11.77\n",
       "2        Verdict                                         14.88\n",
       "3        Phantomlight                                    14.94\n",
       "4        Bloodlord's Fetish                               8.50\n",
       "                                                         ...  \n",
       "178      Oathbreaker, Last Hope of the Breaking Storm    50.76\n",
       "179      Wolf, Promise of the Moonwalker                 26.88\n",
       "181      Reaper's Toll                                    8.30\n",
       "182      Toothpick                                       12.09\n",
       "183      Dragon's Greatsword                              3.27\n",
       "Name: Price, Length: 179, dtype: float64"
      ]
     },
     "execution_count": 125,
     "metadata": {},
     "output_type": "execute_result"
    }
   ],
   "source": [
    "items_df.groupby([\"Item ID\", \"Item Name\"]).sum()[\"Price\"]\n",
    "#items_df"
   ]
  },
  {
   "cell_type": "code",
   "execution_count": 126,
   "metadata": {},
   "outputs": [],
   "source": [
    "#Item Info\n",
    "#Dropping Duplicates\n",
    "nodupes_items_df = items_df.drop_duplicates(subset=['Item ID'])\n",
    "#nodupes_items_df"
   ]
  },
  {
   "cell_type": "code",
   "execution_count": 127,
   "metadata": {},
   "outputs": [],
   "source": [
    "#Most Popular Item - Groupby the items_df table by the item id.\n",
    "count_items_df = pd.DataFrame(purchase_file_df.groupby('Item ID')['Item ID'].count())\n",
    "count_items_df.columns = ['Item Count']\n",
    "\n",
    "#count_items_df"
   ]
  },
  {
   "cell_type": "code",
   "execution_count": 93,
   "metadata": {},
   "outputs": [],
   "source": [
    "#Most Popular\n",
    "# Add Count back into  into the items_df file data frame for additional needed analysis.\n",
    "#items_df[\"Purchase Count\"] = pd.cut(items_df[\"Item ID\"], bins, labels=count_items_df, include_lowest=True)\n",
    "#items)"
   ]
  },
  {
   "cell_type": "code",
   "execution_count": 94,
   "metadata": {},
   "outputs": [],
   "source": [
    "#Most Popular Items - Creating the purchase value of items\n",
    "#total_purchased = purchase_file_df.groupby('Item ID')['Item ID'].count()\n",
    "#total_purchased"
   ]
  },
  {
   "cell_type": "code",
   "execution_count": 115,
   "metadata": {},
   "outputs": [],
   "source": [
    "#Most Popular Item - merging data frames\n",
    "merge_df = pd.merge(nodupes_items_df, count_items_df, on='Item ID')\n",
    "#merge_df"
   ]
  },
  {
   "cell_type": "code",
   "execution_count": 130,
   "metadata": {},
   "outputs": [],
   "source": [
    "#Most Popular Items- Total Purchase Value\n",
    "merge_df['Total Purchase Value']= pd.DataFrame((merge_df[\"Price\"])*(merge_df[\"Item Count\"]))\n",
    "#total_purchased_df= items_df.groupby('Item ID')['Price']*(\"count_items_df\")\n",
    "#total_priced_df= purchase_file_df.groupby('Item ID')['Price'].value_count\n",
    "#merge_df"
   ]
  },
  {
   "cell_type": "code",
   "execution_count": 135,
   "metadata": {},
   "outputs": [
    {
     "data": {
      "text/html": [
       "<div>\n",
       "<style scoped>\n",
       "    .dataframe tbody tr th:only-of-type {\n",
       "        vertical-align: middle;\n",
       "    }\n",
       "\n",
       "    .dataframe tbody tr th {\n",
       "        vertical-align: top;\n",
       "    }\n",
       "\n",
       "    .dataframe thead th {\n",
       "        text-align: right;\n",
       "    }\n",
       "</style>\n",
       "<table border=\"1\" class=\"dataframe\">\n",
       "  <thead>\n",
       "    <tr style=\"text-align: right;\">\n",
       "      <th></th>\n",
       "      <th>Item ID</th>\n",
       "      <th>Item Name</th>\n",
       "      <th>Price</th>\n",
       "      <th>Item Count</th>\n",
       "      <th>Total Purchase Value</th>\n",
       "    </tr>\n",
       "  </thead>\n",
       "  <tbody>\n",
       "    <tr>\n",
       "      <th>2</th>\n",
       "      <td>92</td>\n",
       "      <td>Final Critic</td>\n",
       "      <td>$4.88</td>\n",
       "      <td>13</td>\n",
       "      <td>$63.44</td>\n",
       "    </tr>\n",
       "    <tr>\n",
       "      <th>24</th>\n",
       "      <td>178</td>\n",
       "      <td>Oathbreaker, Last Hope of the Breaking Storm</td>\n",
       "      <td>$4.23</td>\n",
       "      <td>12</td>\n",
       "      <td>$50.76</td>\n",
       "    </tr>\n",
       "    <tr>\n",
       "      <th>0</th>\n",
       "      <td>108</td>\n",
       "      <td>Extraction, Quickblade Of Trembling Hands</td>\n",
       "      <td>$3.53</td>\n",
       "      <td>9</td>\n",
       "      <td>$31.77</td>\n",
       "    </tr>\n",
       "    <tr>\n",
       "      <th>17</th>\n",
       "      <td>82</td>\n",
       "      <td>Nirvana</td>\n",
       "      <td>$4.90</td>\n",
       "      <td>9</td>\n",
       "      <td>$44.10</td>\n",
       "    </tr>\n",
       "    <tr>\n",
       "      <th>93</th>\n",
       "      <td>145</td>\n",
       "      <td>Fiery Glass Crusader</td>\n",
       "      <td>$4.58</td>\n",
       "      <td>9</td>\n",
       "      <td>$41.22</td>\n",
       "    </tr>\n",
       "  </tbody>\n",
       "</table>\n",
       "</div>"
      ],
      "text/plain": [
       "    Item ID                                     Item Name  Price  Item Count  \\\n",
       "2        92                                  Final Critic  $4.88          13   \n",
       "24      178  Oathbreaker, Last Hope of the Breaking Storm  $4.23          12   \n",
       "0       108     Extraction, Quickblade Of Trembling Hands  $3.53           9   \n",
       "17       82                                       Nirvana  $4.90           9   \n",
       "93      145                          Fiery Glass Crusader  $4.58           9   \n",
       "\n",
       "   Total Purchase Value  \n",
       "2                $63.44  \n",
       "24               $50.76  \n",
       "0                $31.77  \n",
       "17               $44.10  \n",
       "93               $41.22  "
      ]
     },
     "execution_count": 135,
     "metadata": {},
     "output_type": "execute_result"
    }
   ],
   "source": [
    "top_items_df = merge_df.sort_values(\"Item Count\", ascending=False)\n",
    "\n",
    "top_items_df['Price'] = top_items_df['Price'].apply(format)\n",
    "top_items_df['Total Purchase Value'] = top_items_df['Total Purchase Value'].apply(format)\n",
    "top_items_df.head()"
   ]
  },
  {
   "cell_type": "code",
   "execution_count": 134,
   "metadata": {},
   "outputs": [
    {
     "data": {
      "text/html": [
       "<div>\n",
       "<style scoped>\n",
       "    .dataframe tbody tr th:only-of-type {\n",
       "        vertical-align: middle;\n",
       "    }\n",
       "\n",
       "    .dataframe tbody tr th {\n",
       "        vertical-align: top;\n",
       "    }\n",
       "\n",
       "    .dataframe thead th {\n",
       "        text-align: right;\n",
       "    }\n",
       "</style>\n",
       "<table border=\"1\" class=\"dataframe\">\n",
       "  <thead>\n",
       "    <tr style=\"text-align: right;\">\n",
       "      <th></th>\n",
       "      <th>Item ID</th>\n",
       "      <th>Item Name</th>\n",
       "      <th>Price</th>\n",
       "      <th>Item Count</th>\n",
       "      <th>Total Purchase Value</th>\n",
       "    </tr>\n",
       "  </thead>\n",
       "  <tbody>\n",
       "    <tr>\n",
       "      <th>2</th>\n",
       "      <td>92</td>\n",
       "      <td>Final Critic</td>\n",
       "      <td>$4.88</td>\n",
       "      <td>13</td>\n",
       "      <td>$63.44</td>\n",
       "    </tr>\n",
       "    <tr>\n",
       "      <th>24</th>\n",
       "      <td>178</td>\n",
       "      <td>Oathbreaker, Last Hope of the Breaking Storm</td>\n",
       "      <td>$4.23</td>\n",
       "      <td>12</td>\n",
       "      <td>$50.76</td>\n",
       "    </tr>\n",
       "    <tr>\n",
       "      <th>17</th>\n",
       "      <td>82</td>\n",
       "      <td>Nirvana</td>\n",
       "      <td>$4.90</td>\n",
       "      <td>9</td>\n",
       "      <td>$44.10</td>\n",
       "    </tr>\n",
       "    <tr>\n",
       "      <th>93</th>\n",
       "      <td>145</td>\n",
       "      <td>Fiery Glass Crusader</td>\n",
       "      <td>$4.58</td>\n",
       "      <td>9</td>\n",
       "      <td>$41.22</td>\n",
       "    </tr>\n",
       "    <tr>\n",
       "      <th>111</th>\n",
       "      <td>103</td>\n",
       "      <td>Singed Scalpel</td>\n",
       "      <td>$4.35</td>\n",
       "      <td>8</td>\n",
       "      <td>$34.80</td>\n",
       "    </tr>\n",
       "  </tbody>\n",
       "</table>\n",
       "</div>"
      ],
      "text/plain": [
       "     Item ID                                     Item Name  Price  Item Count  \\\n",
       "2         92                                  Final Critic  $4.88          13   \n",
       "24       178  Oathbreaker, Last Hope of the Breaking Storm  $4.23          12   \n",
       "17        82                                       Nirvana  $4.90           9   \n",
       "93       145                          Fiery Glass Crusader  $4.58           9   \n",
       "111      103                                Singed Scalpel  $4.35           8   \n",
       "\n",
       "    Total Purchase Value  \n",
       "2                 $63.44  \n",
       "24                $50.76  \n",
       "17                $44.10  \n",
       "93                $41.22  \n",
       "111               $34.80  "
      ]
     },
     "execution_count": 134,
     "metadata": {},
     "output_type": "execute_result"
    }
   ],
   "source": [
    "most_profitable_df = merge_df.sort_values(\"Total Purchase Value\", ascending=False)\n",
    "#most_profitable_df.loc['Price']= f'${Price}'\n",
    "\n",
    "most_profitable_df['Price'] = most_profitable_df['Price'].apply(format)\n",
    "most_profitable_df['Total Purchase Value'] = most_profitable_df['Total Purchase Value'].apply(format)\n",
    "most_profitable_df.head()"
   ]
  },
  {
   "cell_type": "code",
   "execution_count": null,
   "metadata": {},
   "outputs": [],
   "source": []
  }
 ],
 "metadata": {
  "kernelspec": {
   "display_name": "Python 3",
   "language": "python",
   "name": "python3"
  },
  "language_info": {
   "codemirror_mode": {
    "name": "ipython",
    "version": 3
   },
   "file_extension": ".py",
   "mimetype": "text/x-python",
   "name": "python",
   "nbconvert_exporter": "python",
   "pygments_lexer": "ipython3",
   "version": "3.6.10"
  }
 },
 "nbformat": 4,
 "nbformat_minor": 4
}
